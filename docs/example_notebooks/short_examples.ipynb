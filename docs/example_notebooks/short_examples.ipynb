{
 "cells": [
  {
   "cell_type": "markdown",
   "id": "4768bbb9-77eb-4e56-83c9-0dbcbd35ff39",
   "metadata": {},
   "source": [
    "# Short examples"
   ]
  },
  {
   "cell_type": "markdown",
   "id": "83fb9a68-dca3-4193-9885-40f07596f6ba",
   "metadata": {},
   "source": [
    "## 1. Subsetting forcing files\n",
    "In this example, we are going to subset forcing files for a HUC in the Upper Colorado region (HUC 14050002). You can find more information about selecting HUCs from [USGS](https://water.usgs.gov/wsc/map_index.html).\n",
    "\n",
    "First, we are going to make the necessary imports:"
   ]
  },
  {
   "cell_type": "code",
   "execution_count": 44,
   "id": "61d84526-545e-41c4-a7c2-c2c4aee3f878",
   "metadata": {},
   "outputs": [],
   "source": [
    "import matplotlib.pyplot as plt\n",
    "import os\n",
    "from parflow.tools.io import read_pfb, read_clm\n",
    "from parflow.tools.fs import mkdir\n",
    "from subsettools.subsettools import subset_forcing, huc_to_ij\n",
    "from hf_hydrodata import gridded"
   ]
  },
  {
   "cell_type": "markdown",
   "id": "9eccf6bf-588c-4a9e-881c-755e16acecaa",
   "metadata": {},
   "source": [
    "We will need to create an account on https://hydrogen.princeton.edu/pin before we can use the hydrodata utilities. The pin is valid for 2 days. Use your email and the created pin in the `register_api_pin` function as follows:"
   ]
  },
  {
   "cell_type": "code",
   "execution_count": 4,
   "id": "488e6f85-3b72-4933-81b4-b4c7e647c8d4",
   "metadata": {},
   "outputs": [],
   "source": [
    "gridded.register_api_pin(\"your_email\", \"your_pin\")"
   ]
  },
  {
   "cell_type": "markdown",
   "id": "b96f38fa-c55f-4eac-a3b9-ac4f12155186",
   "metadata": {},
   "source": [
    "Next, we are going to calculate the CONUS2 bounding box for this HUC. The subsettools `huc_to_ij` function returns a tuple `(imin, jmin, imax, jmax)` of CONUS2 grid indices that define a bounding box containing this HUC."
   ]
  },
  {
   "cell_type": "code",
   "execution_count": 41,
   "id": "d984b553-af72-47e7-8c1e-58aadd8f4455",
   "metadata": {},
   "outputs": [
    {
     "name": "stdout",
     "output_type": "stream",
     "text": [
      "bounding box: (1225, 1738, 1347, 1811)\n"
     ]
    }
   ],
   "source": [
    "ij_bounds = huc_to_ij(huc_list=[\"14050002\"], grid=\"conus2\")\n",
    "print(f\"bounding box: {ij_bounds}\")"
   ]
  },
  {
   "cell_type": "markdown",
   "id": "eb75de3c-2f8f-4778-ba09-8b394aa86b62",
   "metadata": {},
   "source": [
    "We can now subset the forcing files. We need to specify the bounds (we already calculated those), the grid (conus1 or conus2), start and end dates (note that the end date is exclusive so in the example below we get the files for November 2005) and a forcing dataset to get the files from. You can find more information on our forcing datasets in the [hydrodata documentation](https://maurice.princeton.edu/hydroframe/docs/gridded_data.html#dataset-type-forcing). We also need to set up a directory where the resulting subset data is going to be written as ParFlow Binary (pfb) files. You can replace the `write_dir` argument with a path to your chosen directory."
   ]
  },
  {
   "cell_type": "code",
   "execution_count": 43,
   "id": "d6c7e492-af6f-4793-ac83-6b481c854394",
   "metadata": {},
   "outputs": [
    {
     "name": "stdout",
     "output_type": "stream",
     "text": [
      "Reading precipitation pfb sequence\n",
      "Reading downward_shortwave pfb sequence\n",
      "Reading downward_longwave pfb sequence\n",
      "Reading specific_humidity pfb sequence\n",
      "Reading air_temp pfb sequence\n",
      "Reading atmospheric_pressure pfb sequence\n",
      "Reading east_windspeed pfb sequence\n",
      "Reading north_windspeed pfb sequence\n",
      "Finished writing precipitation to folder\n",
      "Finished writing atmospheric_pressure to folder\n",
      "Finished writing downward_longwave to folder\n",
      "Finished writing north_windspeed to folder\n",
      "Finished writing specific_humidity to folder\n",
      "Finished writing air_temp to folder\n",
      "Finished writing east_windspeed to folder\n",
      "Finished writing downward_shortwave to folder\n"
     ]
    }
   ],
   "source": [
    "_ = subset_forcing(\n",
    "    ij_bounds,\n",
    "    grid=\"conus2\",\n",
    "    start=\"2005-11-01\",\n",
    "    end=\"2005-12-01\",\n",
    "    dataset=\"CW3E\",\n",
    "    write_dir=\"/path/to/your/chosen/directory\",\n",
    ")"
   ]
  },
  {
   "cell_type": "markdown",
   "id": "56a36813-1fe2-47ac-8985-42d896857ccf",
   "metadata": {},
   "source": [
    "## Plot something here? Hydrologist input required :)"
   ]
  },
  {
   "cell_type": "code",
   "execution_count": null,
   "id": "f4921bfb-ea3c-4d46-bf93-f3c2b2c0d18c",
   "metadata": {},
   "outputs": [],
   "source": []
  }
 ],
 "metadata": {
  "kernelspec": {
   "display_name": "Python 3 (ipykernel)",
   "language": "python",
   "name": "python3"
  },
  "language_info": {
   "codemirror_mode": {
    "name": "ipython",
    "version": 3
   },
   "file_extension": ".py",
   "mimetype": "text/x-python",
   "name": "python",
   "nbconvert_exporter": "python",
   "pygments_lexer": "ipython3",
   "version": "3.9.17"
  }
 },
 "nbformat": 4,
 "nbformat_minor": 5
}
