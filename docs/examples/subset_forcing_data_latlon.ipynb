{
 "cells": [
  {
   "cell_type": "markdown",
   "id": "4768bbb9-77eb-4e56-83c9-0dbcbd35ff39",
   "metadata": {},
   "source": [
    "# Subset forcing data for a lat-lon box"
   ]
  },
  {
   "cell_type": "markdown",
   "id": "83fb9a68-dca3-4193-9885-40f07596f6ba",
   "metadata": {},
   "source": [
    "In this example, we are going to use the `subset_forcing` function to subset forcing files for a region in the Mark Twain National Forest defined by two latitude-longitude points.\n",
    "\n",
    "First, we are going to make the necessary imports:"
   ]
  },
  {
   "cell_type": "code",
   "execution_count": 34,
   "id": "61d84526-545e-41c4-a7c2-c2c4aee3f878",
   "metadata": {},
   "outputs": [],
   "source": [
    "from subsettools.subsettools import subset_forcing, latlon_to_ij\n",
    "from hf_hydrodata import gridded"
   ]
  },
  {
   "cell_type": "markdown",
   "id": "9eccf6bf-588c-4a9e-881c-755e16acecaa",
   "metadata": {},
   "source": [
    "We will need to create an account on the [Hydrogen website](https://hydrogen.princeton.edu/pin) before we can use the hydrodata utilities. The pin is valid for 2 days. Use your email and the created pin in the `register_api_pin` function as follows:"
   ]
  },
  {
   "cell_type": "code",
   "execution_count": 3,
   "id": "488e6f85-3b72-4933-81b4-b4c7e647c8d4",
   "metadata": {},
   "outputs": [],
   "source": [
    "gridded.register_api_pin(\"your_email\", \"your_pin\")"
   ]
  },
  {
   "cell_type": "markdown",
   "id": "b96f38fa-c55f-4eac-a3b9-ac4f12155186",
   "metadata": {},
   "source": [
    "Next, we are going to translate the lat-lon points to indices in the CONUS1 grid using the `latlon_to_ij` function. The subsettools `latlon_to_ij` function returns a tuple `(imin, jmin, imax, jmax)` of grid indices that define a bounding box containing our region of interest."
   ]
  },
  {
   "cell_type": "code",
   "execution_count": 23,
   "id": "d984b553-af72-47e7-8c1e-58aadd8f4455",
   "metadata": {},
   "outputs": [
    {
     "name": "stdout",
     "output_type": "stream",
     "text": [
      "bounding box: (2285, 436, 2358, 495)\n"
     ]
    }
   ],
   "source": [
    "ij_bounds = latlon_to_ij(latlon_bounds=[[37.91,-91.43], [37.34,-90.63]], grid=\"conus1\")\n",
    "print(f\"bounding box: {ij_bounds}\")"
   ]
  },
  {
   "cell_type": "markdown",
   "id": "eb75de3c-2f8f-4778-ba09-8b394aa86b62",
   "metadata": {},
   "source": [
    "We can now subset the forcing files. We need to specify the grid bounds (we already calculated those), the grid (conus1 or conus2 - it has to be the same grid that we calculated the indices for), start and end dates (note that the end date is exclusive so in the example below we get the files for November 2005) and a forcing dataset to get the files from. You can find more information on our forcing datasets in the [hydrodata documentation](https://maurice.princeton.edu/hydroframe/docs/gridded_data.html#dataset-type-forcing). We also need to set up a directory where the resulting subset data is going to be written as ParFlow Binary (pfb) files. You can replace the `write_dir` argument with a path to your chosen directory."
   ]
  },
  {
   "cell_type": "code",
   "execution_count": 24,
   "id": "d6c7e492-af6f-4793-ac83-6b481c854394",
   "metadata": {},
   "outputs": [
    {
     "name": "stdout",
     "output_type": "stream",
     "text": [
      "Reading precipitation pfb sequence\n",
      "Reading downward_shortwave pfb sequence\n",
      "Reading downward_longwave pfb sequence\n",
      "Reading specific_humidity pfb sequence\n",
      "Reading air_temp pfb sequence\n",
      "Reading atmospheric_pressure pfb sequence\n",
      "Reading east_windspeed pfb sequence\n",
      "Reading north_windspeed pfb sequence\n",
      "Finished writing specific_humidity to folder\n",
      "Finished writing downward_shortwave to folder\n",
      "Finished writing downward_longwave to folder\n",
      "Finished writing precipitation to folder\n",
      "Finished writing north_windspeed to folder\n",
      "Finished writing air_temp to folder\n",
      "Finished writing atmospheric_pressure to folder\n",
      "Finished writing east_windspeed to folder\n"
     ]
    }
   ],
   "source": [
    "_ = subset_forcing(\n",
    "    ij_bounds,\n",
    "    grid=\"conus1\",\n",
    "    start=\"2005-11-01\",\n",
    "    end=\"2005-12-01\",\n",
    "    dataset=\"NLDAS2\",\n",
    "    write_dir=\"/path/to/your/chosen/directory\",\n",
    ")"
   ]
  },
  {
   "cell_type": "markdown",
   "id": "56a36813-1fe2-47ac-8985-42d896857ccf",
   "metadata": {},
   "source": [
    "## Plot something here?"
   ]
  },
  {
   "cell_type": "markdown",
   "id": "4a2396b0-ef76-47f2-890b-0c9026a02e6b",
   "metadata": {},
   "source": [
    "## Get citations from this entry?"
   ]
  },
  {
   "cell_type": "code",
   "execution_count": 33,
   "id": "735d0dcd-0d21-48cc-8b0c-9396ca7ee846",
   "metadata": {},
   "outputs": [
    {
     "data": {
      "text/plain": [
       "{'id': '112', 'dataset': 'NLDAS2', 'file_type': 'pfb', 'variable': 'precipitation', 'dataset_var': 'APCP', 'entry_start_date': '', 'entry_end_date': '', 'period': 'hourly', 'units': 'mm', 'aggregation': '-', 'grid': 'conus1', 'security_level': '1', 'path': '/hydrodata/PFCLM/CONUS1_baseline/simulations/{wy}/WY{wy}/NLDAS.{dataset_var}.{wy_start_24hr:06d}_to_{wy_end_24hr:06d}.pfb', 'documentation_notes': '', 'site_type': '', 'dataset_type': 'forcing', 'structure_type': 'gridded', 'unit_type': 'length', 'variable_type': 'atmospheric', 'description': 'National Land Data Assimilation Product V2', 'summary': '', 'paper_dois': '10.5194/gmd-14-7223-2021; 10.1002/2016GL069964', 'dataset_dois': '', 'dataset_start_date': '10/1/02', 'dataset_end_date': '9/30/06', 'time_zone': 'UTC−0:00', 'documentation_link': '', 'has_ensemble': ''}"
      ]
     },
     "execution_count": 33,
     "metadata": {},
     "output_type": "execute_result"
    }
   ],
   "source": [
    "hf_hydrodata.gridded.get_catalog_entry(\n",
    "    grid=\"conus1\",\n",
    "    period=\"hourly\",\n",
    "    start=\"2005-11-01\",\n",
    "    end=\"2005-12-01\",\n",
    "    dataset=\"NLDAS2\",\n",
    "    variable=\"precipitation\"\n",
    ")"
   ]
  },
  {
   "cell_type": "code",
   "execution_count": null,
   "id": "28a72997-2cac-41b0-b0fb-ddaa1113a192",
   "metadata": {},
   "outputs": [],
   "source": []
  }
 ],
 "metadata": {
  "kernelspec": {
   "display_name": "Python 3 (ipykernel)",
   "language": "python",
   "name": "python3"
  },
  "language_info": {
   "codemirror_mode": {
    "name": "ipython",
    "version": 3
   },
   "file_extension": ".py",
   "mimetype": "text/x-python",
   "name": "python",
   "nbconvert_exporter": "python",
   "pygments_lexer": "ipython3",
   "version": "3.9.17"
  }
 },
 "nbformat": 4,
 "nbformat_minor": 5
}
