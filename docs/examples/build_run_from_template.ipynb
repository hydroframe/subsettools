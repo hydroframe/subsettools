{
 "cells": [
  {
   "cell_type": "markdown",
   "id": "4768bbb9-77eb-4e56-83c9-0dbcbd35ff39",
   "metadata": {},
   "source": [
    "# Build a ParFlow run from a template"
   ]
  },
  {
   "cell_type": "markdown",
   "id": "83fb9a68-dca3-4193-9885-40f07596f6ba",
   "metadata": {},
   "source": [
    ">>> TODO: Some intro about parflow and the role that runscripts play in a simulation here?\n",
    "\n",
    "The subsettools package comes with a collection of runscripts that address a variety of common configurations for ParFlow. You may use these as a template for a ParFlow run that most closely meets the specifications of the model you are trying to build. In this tutorial we are going to show how to get one of the provided template runscripts, modify its keys to match our subsetting domain and our filename/directory structure and finally build a ParFlow run object from our edited runscript."
   ]
  },
  {
   "cell_type": "markdown",
   "id": "a421017a",
   "metadata": {},
   "source": [
    "### 1.  Setup \n",
    "\n",
    "In all examples you will need to import the following packages and register your pin in order to have access to the HydroData datasets. <<< for this workbook registering is probably not necessary, but we can keep it anyway?\n",
    "\n",
    "Refer to the [getting started](https://hydroframesubsettools.readthedocs.io/en/latest/getting_started.html) instructions for creating your pin if you have not done this already."
   ]
  },
  {
   "cell_type": "code",
   "execution_count": 1,
   "id": "61d84526-545e-41c4-a7c2-c2c4aee3f878",
   "metadata": {},
   "outputs": [],
   "source": [
    "from subsettools.subsettools import (\n",
    "    huc_to_ij, \n",
    "    latlon_to_ij, \n",
    "    subset_press_init, \n",
    "    edit_runscript_for_subset,\n",
    "    change_filename_values,\n",
    "    dist_run,\n",
    ")\n",
    "from subsettools.datasets import get_template_runscript\n",
    "from hf_hydrodata import grid, gridded\n",
    "from parflow import Run\n",
    "import matplotlib.pyplot as plt\n",
    "import numpy as np\n",
    "import pandas as pd\n",
    "\n",
    "gridded.register_api_pin(\"your_email\", \"your_pin\")"
   ]
  },
  {
   "cell_type": "markdown",
   "id": "56f5f9e0-4541-47d1-ba06-d73e0a9c3f98",
   "metadata": {},
   "source": [
    "### 2. Get a template runscript\n",
    "\n",
    "In order to run ParFlow, you must have a model object in the form of a .pfidb or .yaml file (link?). These files can be generated initially from a python script using pftools keys. You can read more about pftools and functions for manipulating runscripts [here](https://parflow.readthedocs.io/en/latest/python/run_script.html).\n",
    "\n",
    "We recommend a user select a template runscript corresponding to following three guidelines:\n",
    "\n",
    "    1. Select a source data domain you wish to subset from: a. CONUS1 b. CONUS2\n",
    "\n",
    "    2. Select an input file type: a. Solid file (if you are providing a HUC or HUC list) b. A box domain (you are providing lat/lon coordinates)\n",
    "\n",
    "    3. Select a template corresponding to your planned way to run ParFlow: a. Transient run, fully coupled to the climate model CLM b. Model Initialization running ParFlow on its own with a longterm recharge (PmE) mask.\n",
    "\n",
    "We provide 8 template runscripts which correspond to all unique combinations of the above three guidelines. These template runscripts have values set to the values used to run simulations of CONUS1 or CONUS2 in the past.\n",
    "\n",
    "To get a template runscript provided with the package, you should use the `get_template_runscript` function (API reference [here](https://hydroframesubsettools.readthedocs.io/en/edit-docs/autoapi/subsettools/datasets/index.html#subsettools.datasets.get_template_runscript)). The function will get the correct template runscript based on your choices, write it to your chosen directory, and return the path to the file written.\n",
    "\n",
    "For example, to get the template for a ParFlow-CLM coupled run on the CONUS1 grid with a solid input file, you can do:"
   ]
  },
  {
   "cell_type": "code",
   "execution_count": 2,
   "id": "0331f10f-633d-4ece-9474-36c4641525c7",
   "metadata": {},
   "outputs": [],
   "source": [
    "template_run = get_template_runscript(\n",
    "    grid=\"conus1\", \n",
    "    mode=\"transient\", \n",
    "    input_file_type=\"solid\",\n",
    "    write_dir=\"/home/ga6/subsettools_example\",\n",
    ")"
   ]
  },
  {
   "cell_type": "markdown",
   "id": "e8c5498c-2295-4541-9a43-750de0fc365f",
   "metadata": {},
   "source": [
    "We can create a ParFlow run object from a runscript file with the `from_definition` method of the ParFlow `Run` class. We can then use standard python attribute notation to explore the run keys and see their values:"
   ]
  },
  {
   "cell_type": "code",
   "execution_count": 3,
   "id": "53100619-3728-428d-bc03-444c13c08ad8",
   "metadata": {},
   "outputs": [
    {
     "name": "stdout",
     "output_type": "stream",
     "text": [
      "Input file type: SolidFile\n"
     ]
    }
   ],
   "source": [
    "run = Run.from_definition(template_run)\n",
    "# Let's check that our input is a solid file:\n",
    "print(\"Input file type:\", run.GeomInput.domaininput.InputType)\n",
    "\n",
    "# >>>> TODO: what other keys to explore at this stage?"
   ]
  },
  {
   "cell_type": "markdown",
   "id": "9eccf6bf-588c-4a9e-881c-755e16acecaa",
   "metadata": {},
   "source": [
    "### 3. Define your area of interest\n",
    "\n",
    "In order to custom our runscript to our subsetting domain, we first need to calculate the grid bounds. We show how to do that below.\n",
    "\n",
    "We use i,j indices in order to define the subset the national files that you would like to extract.  The [`latlon_to_ij`](https://hydroframesubsettools.readthedocs.io/en/latest/autoapi/subsettools/subsettools/index.html#subsettools.subsettools.latlon_to_ij) function translates a bounding box in lat-lon  coordinates bounds to i,j indices in whatever grid system we select. It returns a tuple `(imin, jmin, imax, jmax)` of grid indices that define a bounding box containing our region (or point) of interest (Note: `(imin, jmin, imax, jmax)` are the west, south, east and north boundaries respectively).\n",
    "\n",
    "Here we will show how to define a subset extent for (1) a single point of interest, (2) a user specified bounding box, and (3) a bounding box that surrounds a user specified HUC. \n",
    "\n",
    "**IMPORTANT NOTE**: *The i,j indices found in this step are based on whatever grid you select (e.g. `conus1` or `conus2`). Its very important that the grid you use in this step is the same as the grid that the data files (static input and forcing) you are subsetting are in or you will end up subsetting a different location than you expect.  The grids are shown below and described in [Yang et al 2023](https://www.sciencedirect.com/science/article/pii/S0022169423012362)* \n",
    "\n",
    "![CONUS domains](CONUS1_2_domain.jpg)\n",
    "\n",
    "#### 3.1 Defining bounds to extract data for a single point\n",
    "To extract data for a single point we use the same bounding box function as we would to extract a larger domain but just repeat the point values as the upper and lower bounds."
   ]
  },
  {
   "cell_type": "code",
   "execution_count": 5,
   "id": "b63ae4ef-a2b8-4123-9d63-9b9bff85c204",
   "metadata": {},
   "outputs": [
    {
     "name": "stdout",
     "output_type": "stream",
     "text": [
      "bounding box: (4057, 1915, 4057, 1915)\n"
     ]
    }
   ],
   "source": [
    "lat = 39.8379\n",
    "lon = -74.3791\n",
    "# Since we want to subset only a single location, both lat-lon bounds are defined by this point:\n",
    "latlon_bounds = ([lat, lon],[lat, lon])\n",
    "ij_column_bounds = latlon_to_ij(latlon_bounds=latlon_bounds, grid=\"conus2\")\n",
    "print(f\"bounding box: {ij_column_bounds}\")"
   ]
  },
  {
   "cell_type": "markdown",
   "id": "ab375010",
   "metadata": {},
   "source": [
    "#### 3.2 Defining bounds for a box defined by lat-lon bounds\n",
    "To extract a bounding box, provide the upper and lower latitude and longitude bounds respectively for the area of interest as well as the grid system that you would like to use. "
   ]
  },
  {
   "cell_type": "code",
   "execution_count": 6,
   "id": "17621e48",
   "metadata": {},
   "outputs": [
    {
     "name": "stdout",
     "output_type": "stream",
     "text": [
      "bounding box: (2285, 436, 2358, 495)\n"
     ]
    }
   ],
   "source": [
    "ij_box_bounds = latlon_to_ij(latlon_bounds=[[37.91, -91.43], [37.34, -90.63]], grid=\"conus1\")\n",
    "print(f\"bounding box: {ij_box_bounds}\")"
   ]
  },
  {
   "cell_type": "markdown",
   "id": "2901933c",
   "metadata": {},
   "source": [
    "#### 3.3 Defining bounds for a HUC watershed\n",
    "The subsettools [`huc_to_ij`](https://hydroframesubsettools.readthedocs.io/en/latest/autoapi/subsettools/subsettools/index.html#subsettools.subsettools.huc_to_ij) function returns a tuple `(imin, jmin, imax, jmax)` of grid indices that define a bounding box containing any HUC. You can provide 2, 4, 6, 8 or 10-digit HUCs.  For help finding your HUC you can refer to the [USGS HUC picker](https://water.usgs.gov/wsc/map_index.html)."
   ]
  },
  {
   "cell_type": "code",
   "execution_count": 7,
   "id": "35d88c8a",
   "metadata": {},
   "outputs": [
    {
     "name": "stdout",
     "output_type": "stream",
     "text": [
      "bounding box: (1225, 1738, 1347, 1811)\n"
     ]
    }
   ],
   "source": [
    "ij_huc_bounds = huc_to_ij(huc_list=[\"14050002\"], grid=\"conus2\")\n",
    "print(f\"bounding box: {ij_huc_bounds}\")"
   ]
  },
  {
   "cell_type": "markdown",
   "id": "a09dfacf-f441-4003-a24f-85781a161021",
   "metadata": {},
   "source": [
    "### 4. Modify a template runscript for  a subset domain \n",
    "We will now use the `edit_runscript_for_subset` function (API reference [here](https://hydroframesubsettools.readthedocs.io/en/edit-docs/autoapi/subsettools/subsettools/index.html#subsettools.subsettools.edit_runscript_for_subset)) to tailor our runscript to our subsetting domain. We will pass the function the grid bounds we calculated (we will pass `ij_huc_bounds` since we chose a runscript for a solid file), the path to our template runscript, and a new name for our run. We can also pass a path to our forcing directory, if we have subset and saved our forcing data already (for that take a look at our example on subsetting forcing data). The function will return a path to the new runscript that will be created.\n",
    "\n",
    "**NOTE:** *If you don't provide a write_dir argument, the new runscript is going to be written in the directory or the original runscript. The filename depends on the runname, so if you also don't change the runname the original runscript file will be overwritten.* <<< Is this clear?"
   ]
  },
  {
   "cell_type": "code",
   "execution_count": 8,
   "id": "97d055f7-5a38-4f5b-8332-bbf6dd84b1d4",
   "metadata": {},
   "outputs": [
    {
     "name": "stdout",
     "output_type": "stream",
     "text": [
      "New runname: my_new_conus2_run provided, a new yaml file will be created\n",
      "No forcing directory provided, run.Solver.CLM.MetFilePath key not set\n",
      "ComputationalGrid.NY set to 73 and NX to 122\n",
      "GeomInput.domaininput.InputType detected as SolidFile, no additional keys to change for subset\n",
      "Updated runscript written to /home/ga6/subsettools_example\n"
     ]
    }
   ],
   "source": [
    "runscript_path = edit_runscript_for_subset(\n",
    "    ij_bounds=ij_huc_bounds,\n",
    "    runscript_path=template_run,\n",
    "    runname=\"my_new_conus2_run\",\n",
    ")"
   ]
  },
  {
   "cell_type": "code",
   "execution_count": 9,
   "id": "158c4e38-dac6-448b-9d47-ac8888d88a74",
   "metadata": {},
   "outputs": [
    {
     "name": "stdout",
     "output_type": "stream",
     "text": [
      "New runname: my_new_conus2_run\n",
      "New grid nx, ny: 122 73\n"
     ]
    }
   ],
   "source": [
    "# we can explore the mofified keys as before, by created a ParFlow run object from the new runscript:\n",
    "run = Run.from_definition(runscript_path)\n",
    "print(\"New runname:\", run.get_name())\n",
    "print(\"New grid nx, ny:\", run.ComputationalGrid.NX, run.ComputationalGrid.NY)"
   ]
  },
  {
   "cell_type": "markdown",
   "id": "757e171d-5538-41d8-be51-32f79293d536",
   "metadata": {},
   "source": [
    "### 5. Modify file paths for inputs in the runscript\n",
    "\n",
    "We can use the subsettools `change_filename_values` function  (API reference [here](https://hydroframesubsettools.readthedocs.io/en/edit-docs/autoapi/subsettools/subsettools/index.html#subsettools.subsettools.change_filename_values)) to modify the file paths for various ParFlow inputs in our runscript. For example, we can use the subset_press_init` function to get initial pressure data. This function returns a path to the file written and we will modify our runscript so that ParFlow can find that file.\n",
    "\n",
    ">>> This step is a little akward. In order to use the `change_filename_values` function I have to assume that files exist. I think the easiest is to use either subset_static or subset_press_init and grab the filepaths from their return values?\n",
    "\n",
    "\n",
    "\n",
    "**NOTE:** *You should provide the filename, not the entire path to the file. We suggest using the Python Standard Library [`os.path.basename`](https://docs.python.org/3/library/os.path.html#os.path.basename) function to extract the filename from the path.*"
   ]
  },
  {
   "cell_type": "code",
   "execution_count": null,
   "id": "0e9c8b13-533e-4bcb-a78a-7534d2e91219",
   "metadata": {},
   "outputs": [],
   "source": [
    "# get and save the initial pressure data <<< this won't run until we put a dataset\n",
    "init_press_filepath = subset_press_init(\n",
    "    ij_huc_bounds,\n",
    "### which dataset would I use for conus2? for conus1 it would be conus1_baseline_mod\n",
    "    dataset=\"some_dataset\",\n",
    "    date=\"2005-12-15\",\n",
    "    write_dir=\"/home/ga6/subsettools_example\",\n",
    "    time_zone=\"EST\",\n",
    ")\n",
    "\n",
    "# change the initial pressure file path in the runscript:\n",
    "filename = os.path.basename(press_init_filepath)\n",
    "runscript_path = change_filename_values(\n",
    "    runscript_path=runscript_path,\n",
    "    init_press=init_press,\n",
    ")"
   ]
  },
  {
   "cell_type": "markdown",
   "id": "7fc8d9dd-4b3c-42b7-9e8b-c7f6e45bec1b",
   "metadata": {},
   "source": [
    "### 6. Change the processor topology\n",
    "\n",
    ">>> TODO: something about parallel computing / how parflow distributes the simulation here?\n",
    "\n",
    "We will use the subsettools `dist_run` function (API reference [here](https://hydroframesubsettools.readthedocs.io/en/edit-docs/autoapi/subsettools/subsettools/index.html#subsettools.subsettools.dist_run)) to distribute our inputs to our chosen processor topology.\n",
    "\n",
    ">>> This is also akward like step 5, as it assumes we already have a directory with static and/or forcing inputs. I feel like this tutorial is trying to emulate the example notebook, but without the necessary data to make the code run. Perhaps we can improve the narrative of the notebook instead?"
   ]
  },
  {
   "cell_type": "code",
   "execution_count": null,
   "id": "4e6a108a-e29f-48b5-a6dd-e0aa7634a709",
   "metadata": {},
   "outputs": [],
   "source": []
  }
 ],
 "metadata": {
  "kernelspec": {
   "display_name": "Python 3 (ipykernel)",
   "language": "python",
   "name": "python3"
  },
  "language_info": {
   "codemirror_mode": {
    "name": "ipython",
    "version": 3
   },
   "file_extension": ".py",
   "mimetype": "text/x-python",
   "name": "python",
   "nbconvert_exporter": "python",
   "pygments_lexer": "ipython3",
   "version": "3.9.17"
  }
 },
 "nbformat": 4,
 "nbformat_minor": 5
}
