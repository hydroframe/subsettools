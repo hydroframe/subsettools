{
 "cells": [
  {
   "cell_type": "markdown",
   "id": "4768bbb9-77eb-4e56-83c9-0dbcbd35ff39",
   "metadata": {},
   "source": [
    "# Build a ParFlow run from a template"
   ]
  },
  {
   "cell_type": "markdown",
   "id": "83fb9a68-dca3-4193-9885-40f07596f6ba",
   "metadata": {},
   "source": [
    ">>> TODO: Some intro about parflow and the role that runscripts play in a simulation here?\n",
    "\n",
    "The subsettools package comes with a collection of runscripts that address a variety of common configurations for ParFlow. You may use these as a template for a ParFlow run that most closely meets the specifications of the model you are trying to build. In this tutorial we are going to show how to get one of the provided template runscripts, modify its keys to match our subsetting domain and our filename/directory structure and finally build a ParFlow run object from our edited runscript."
   ]
  },
  {
   "cell_type": "markdown",
   "id": "a421017a",
   "metadata": {},
   "source": [
    "### 1.  Setup \n",
    "\n",
    "In all examples you will need to import the following packages and register your pin in order to have access to the HydroData datasets. <<< for this workbook registering is probably not necessary, but we can keep it anyway?\n",
    "\n",
    "Refer to the [getting started](https://hydroframesubsettools.readthedocs.io/en/latest/getting_started.html) instructions for creating your pin if you have not done this already."
   ]
  },
  {
   "cell_type": "code",
   "execution_count": 3,
   "id": "61d84526-545e-41c4-a7c2-c2c4aee3f878",
   "metadata": {},
   "outputs": [],
   "source": [
    "from subsettools.subsettools import (\n",
    "    huc_to_ij, \n",
    "    latlon_to_ij, \n",
    "    edit_runscript_for_subset,\n",
    "    change_filename_values,\n",
    "    dist_run,\n",
    ")\n",
    "from subsettools.datasets import get_template_runscript\n",
    "from hf_hydrodata import gridded\n",
    "from parflow import Run\n",
    "\n",
    "gridded.register_api_pin(\"your_email\", \"your_pin\")"
   ]
  },
  {
   "cell_type": "markdown",
   "id": "56f5f9e0-4541-47d1-ba06-d73e0a9c3f98",
   "metadata": {},
   "source": [
    "### 2. Get a template runscript\n",
    "\n",
    "In order to run ParFlow, you must have a model object in the form of a .pfidb or .yaml file (link?). These files can be generated initially from a python script using pftools keys. You can read more about pftools and functions for manipulating runscripts [here](https://parflow.readthedocs.io/en/latest/python/run_script.html).\n",
    "\n",
    "We recommend a user select a template runscript corresponding to following three guidelines:\n",
    "\n",
    "    1. Select a source data domain you wish to subset from: a. CONUS1 b. CONUS2\n",
    "\n",
    "    2. Select an input file type: a. Solid file (if you are providing a HUC or HUC list) b. A box domain (you are providing lat/lon coordinates)\n",
    "\n",
    "    3. Select a template corresponding to your planned way to run ParFlow: a. Transient run, fully coupled to the climate model CLM b. Model Initialization running ParFlow on its own with a longterm recharge (PmE) mask.\n",
    "\n",
    "We provide 8 template runscripts which correspond to all unique combinations of the above three guidelines. These template runscripts have values set to the values used to run simulations of CONUS1 or CONUS2 in the past.\n",
    "\n",
    "To get a template runscript provided with the package, you should use the `get_template_runscript` function (API reference [here](https://hydroframesubsettools.readthedocs.io/en/edit-docs/autoapi/subsettools/datasets/index.html#subsettools.datasets.get_template_runscript)). The function will get the correct template runscript based on your choices, write it to your chosen directory, and return the path to the file written.\n",
    "\n",
    "For example, to get the template for a coupled ParFlow-CLM run on the CONUS1 grid with a solid input file, you can do:"
   ]
  },
  {
   "cell_type": "code",
   "execution_count": 4,
   "id": "0331f10f-633d-4ece-9474-36c4641525c7",
   "metadata": {},
   "outputs": [],
   "source": [
    "template_run = get_template_runscript(\n",
    "    grid=\"conus1\", \n",
    "    mode=\"transient\", \n",
    "    input_file_type=\"solid\",\n",
    "    write_dir=\"/home/ga6/subsettools_example\",\n",
    ")"
   ]
  },
  {
   "cell_type": "markdown",
   "id": "e8c5498c-2295-4541-9a43-750de0fc365f",
   "metadata": {},
   "source": [
    "We can create a ParFlow run object from a runscript file with the `from_definition` method of the ParFlow `Run` class. We can then use standard python attribute notation to explore the run keys and see their values:"
   ]
  },
  {
   "cell_type": "code",
   "execution_count": 6,
   "id": "53100619-3728-428d-bc03-444c13c08ad8",
   "metadata": {},
   "outputs": [
    {
     "name": "stdout",
     "output_type": "stream",
     "text": [
      "Input file type: SolidFile\n"
     ]
    }
   ],
   "source": [
    "run = Run.from_definition(template_run)\n",
    "# Let's check that our input is a solid file:\n",
    "print(\"Input file type:\", run.GeomInput.domaininput.InputType)\n",
    "\n",
    "# >>>> TODO: at this stage, what other keys does it make sense (hydrologically) to print?"
   ]
  },
  {
   "cell_type": "markdown",
   "id": "9eccf6bf-588c-4a9e-881c-755e16acecaa",
   "metadata": {},
   "source": [
    "### 3. Define your area of interest\n",
    "\n",
    "In order to custom our runscript to our subsetting domain, we first need to calculate the grid bounds. We show how to do that below.\n",
    "\n",
    "We use i,j indices in order to define the subset the national files that you would like to extract.  The [`latlon_to_ij`](https://hydroframesubsettools.readthedocs.io/en/latest/autoapi/subsettools/subsettools/index.html#subsettools.subsettools.latlon_to_ij) function translates a bounding box in lat-lon  coordinates bounds to i,j indices in whatever grid system we select. It returns a tuple `(imin, jmin, imax, jmax)` of grid indices that define a bounding box containing our region (or point) of interest (Note: `(imin, jmin, imax, jmax)` are the west, south, east and north boundaries respectively).\n",
    "\n",
    "Here we will show how to define a subset extent for (1) a single point of interest, (2) a user specified bounding box, and (3) a bounding box that surrounds a user specified HUC. \n",
    "\n",
    "**IMPORTANT NOTE**: *The i,j indices found in this step are based on whatever grid you select (e.g. `conus1` or `conus2`). Its very important that the grid you use in this step is the same as the grid that the data files (static input and forcing) you are subsetting are in or you will end up subsetting a different location than you expect.  The grids are shown below and described in [Yang et al 2023](https://www.sciencedirect.com/science/article/pii/S0022169423012362)* \n",
    "\n",
    "![CONUS domains](CONUS1_2_domain.jpg)\n",
    "\n",
    "#### 3.1 Defining bounds to extract data for a single point\n",
    "To extract data for a single point we use the same bounding box function as we would to extract a larger domain but just repeat the point values as the upper and lower bounds."
   ]
  },
  {
   "cell_type": "code",
   "execution_count": 8,
   "id": "b63ae4ef-a2b8-4123-9d63-9b9bff85c204",
   "metadata": {},
   "outputs": [
    {
     "name": "stdout",
     "output_type": "stream",
     "text": [
      "bounding box: (4057, 1915, 4057, 1915)\n"
     ]
    }
   ],
   "source": [
    "lat = 39.8379\n",
    "lon = -74.3791\n",
    "# Since we want to subset only a single location, both lat-lon bounds are defined by this point:\n",
    "latlon_bounds = ([lat, lon],[lat, lon])\n",
    "ij_column_bounds = latlon_to_ij(latlon_bounds=latlon_bounds, grid=\"conus2\")\n",
    "print(f\"bounding box: {ij_column_bounds}\")"
   ]
  },
  {
   "cell_type": "markdown",
   "id": "ab375010",
   "metadata": {},
   "source": [
    "#### 3.2 Defining bounds for a box defined by lat-lon bounds\n",
    "To extract a bounding box, provide the upper and lower latitude and longitude bounds respectively for the area of interest as well as the grid system that you would like to use. "
   ]
  },
  {
   "cell_type": "code",
   "execution_count": 9,
   "id": "17621e48",
   "metadata": {},
   "outputs": [
    {
     "name": "stdout",
     "output_type": "stream",
     "text": [
      "bounding box: (2285, 436, 2358, 495)\n"
     ]
    }
   ],
   "source": [
    "ij_box_bounds = latlon_to_ij(latlon_bounds=[[37.91, -91.43], [37.34, -90.63]], grid=\"conus1\")\n",
    "print(f\"bounding box: {ij_box_bounds}\")"
   ]
  },
  {
   "cell_type": "markdown",
   "id": "2901933c",
   "metadata": {},
   "source": [
    "#### 3.3 Defining bounds for a HUC watershed\n",
    "The subsettools [`huc_to_ij`](https://hydroframesubsettools.readthedocs.io/en/latest/autoapi/subsettools/subsettools/index.html#subsettools.subsettools.huc_to_ij) function returns a tuple `(imin, jmin, imax, jmax)` of grid indices that define a bounding box containing any HUC. You can provide 2, 4, 6, 8 or 10-digit HUCs.  For help finding your HUC you can refer to the [USGS HUC picker](https://water.usgs.gov/wsc/map_index.html)."
   ]
  },
  {
   "cell_type": "code",
   "execution_count": 10,
   "id": "35d88c8a",
   "metadata": {},
   "outputs": [
    {
     "name": "stdout",
     "output_type": "stream",
     "text": [
      "bounding box: (1225, 1738, 1347, 1811)\n"
     ]
    }
   ],
   "source": [
    "ij_huc_bounds = huc_to_ij(huc_list=[\"14050002\"], grid=\"conus2\")\n",
    "print(f\"bounding box: {ij_huc_bounds}\")"
   ]
  },
  {
   "cell_type": "markdown",
   "id": "a09dfacf-f441-4003-a24f-85781a161021",
   "metadata": {},
   "source": [
    "### 4. Modify a template runscript for  a subset domain \n",
    "We will now use the `edit_runscript_for_subset` function (API reference [here](https://hydroframesubsettools.readthedocs.io/en/edit-docs/autoapi/subsettools/subsettools/index.html#subsettools.subsettools.edit_runscript_for_subset)) to tailor our runscript to our subsetting domain. We will pass the function the grid bounds we calculated (we will pass `ij_huc_bounds` since we chose a runscript for a solid file), the path to our template runscript, and a new name for our run. We can also pass the path to the directory containing our forcing inputs, if we have subset and saved our forcing data already (take a look at our example on subsetting forcing data if you haven't already). The function will return a path to the new runscript that will be created.\n",
    "\n",
    "**NOTE:** *If you don't provide a write_dir argument, the new runscript is going to be written in the directory or the original runscript. The filename depends on the runname, so if you also don't change the runname the original runscript file will be overwritten.*"
   ]
  },
  {
   "cell_type": "code",
   "execution_count": 16,
   "id": "97d055f7-5a38-4f5b-8332-bbf6dd84b1d4",
   "metadata": {},
   "outputs": [
    {
     "name": "stdout",
     "output_type": "stream",
     "text": [
      "New runname: my_new_conus2_run provided, a new yaml file will be created\n",
      "Climate forcing directory has been changed to /home/ga6/subsettools_example in runscript.\n",
      "ComputationalGrid.NY set to 73 and NX to 122\n",
      "GeomInput.domaininput.InputType detected as SolidFile, no additional keys to change for subset\n",
      "Updated runscript written to /home/ga6/subsettools_example\n"
     ]
    }
   ],
   "source": [
    "runscript_path = edit_runscript_for_subset(\n",
    "    ij_bounds=ij_huc_bounds,\n",
    "    runscript_path=template_run,\n",
    "    runname=\"my_new_conus2_run\",\n",
    "    forcing_dir=\"/path/to/your/forcing/directory\"\n",
    ")"
   ]
  },
  {
   "cell_type": "code",
   "execution_count": 17,
   "id": "158c4e38-dac6-448b-9d47-ac8888d88a74",
   "metadata": {},
   "outputs": [
    {
     "name": "stdout",
     "output_type": "stream",
     "text": [
      "New runname: my_new_conus2_run\n",
      "New grid nx, ny: 122 73\n",
      "Forcing directory: /home/ga6/subsettools_example\n"
     ]
    }
   ],
   "source": [
    "# we can explore the mofified keys as before, by created a ParFlow run object from the new runscript:\n",
    "run = Run.from_definition(runscript_path)\n",
    "print(\"New runname:\", run.get_name())\n",
    "print(\"New grid nx, ny:\", run.ComputationalGrid.NX, run.ComputationalGrid.NY)\n",
    "print(\"Forcing directory:\", run.Solver.CLM.MetFilePath)"
   ]
  },
  {
   "cell_type": "markdown",
   "id": "757e171d-5538-41d8-be51-32f79293d536",
   "metadata": {},
   "source": [
    "### 5. Modify file paths for inputs in the runscript\n",
    "\n",
    "We can use the subsettools `change_filename_values` function  (API reference [here](https://hydroframesubsettools.readthedocs.io/en/edit-docs/autoapi/subsettools/subsettools/index.html#subsettools.subsettools.change_filename_values)) to modify the file paths for various ParFlow inputs in our runscript. For example, if you have already subset your initial pressure data, or your static inputs, you can provide paths this function with paths to those files and it will modify the runscript appropriately. The function returns a filepath to the new runscript that will be created.\n",
    "\n",
    "**NOTE:** *The file paths should be relative to the working directory when the ParFlow `Run.run()` method is invoked (see towards the end of this tutorial).*"
   ]
  },
  {
   "cell_type": "code",
   "execution_count": null,
   "id": "0e9c8b13-533e-4bcb-a78a-7534d2e91219",
   "metadata": {},
   "outputs": [],
   "source": [
    "# change the file paths for the initial pressure, mannings and slope_x data in the runscript:\n",
    "runscript_path = change_filename_values(    runscript_path=runscript_path,\n",
    "    init_press='path/to/your/initial/pressure/pfb/file',\n",
    "    mannings='path/to/your/mannings/pfb/file',\n",
    "    slopex='path/to/your/slope_x/pfb/file',\n",
    ")"
   ]
  },
  {
   "cell_type": "markdown",
   "id": "7fc8d9dd-4b3c-42b7-9e8b-c7f6e45bec1b",
   "metadata": {},
   "source": [
    "### 6. Change the processor topology\n",
    "\n",
    ">>> TODO: something about parallel computing / how parflow distributes the inputs and the simulation here?\n",
    "\n",
    "We will use the subsettools `dist_run` function (API reference [here](https://hydroframesubsettools.readthedocs.io/en/edit-docs/autoapi/subsettools/subsettools/index.html#subsettools.subsettools.dist_run)) to distribute our inputs to our chosen processor topology. We need to provide `P` and `Q` (the number of grids that will be created in the x and y directions), the path to our runscript and optionally a path to the working directory (the directory where the files to be distributed are located). If omitted, the working directory defaults to the directory where the runscript file is located. \n",
    "\n",
    "We can also specify whether to distribute the forcing files as well, by setting the `dist_clim_forcing` flag. *Note that if you set the flag to `True`, you should have edited your runscript to include a valid directory to your forcing data (like we did above with the `edit_runscript_for_subset` function).*\n",
    "\n",
    "The `dist_run` function will modify the runscript with the values of `P` and `Q` provided. When you later launch the ParFlow simulation, you should make sure to request `P * Q` processors from your computing cluster. The `dist_run` function returns a path to the new runscript that will be created."
   ]
  },
  {
   "cell_type": "code",
   "execution_count": null,
   "id": "7299fef8-df9a-448a-9b42-94b4a7d8f2db",
   "metadata": {},
   "outputs": [],
   "source": [
    "# distribute input files across 2 grids in the x direction and 2 grids in the y direction\n",
    "runscript_path = dist_run(\n",
    "    P=2,\n",
    "    Q=2,\n",
    "    runscript_path=runscript_path,\n",
    "    working_dir='/path/to/the/files/to/be/distributed',\n",
    "    dist_clim_forcing=True,\n",
    ")"
   ]
  },
  {
   "cell_type": "markdown",
   "id": "35a2945b-1079-4e5d-aa88-60660c60a02f",
   "metadata": {},
   "source": [
    "### 7. Change other keys in the runscript\n",
    "\n",
    ">>> Does this mean keys that cannot be changed using our functions? E.g. something like create a run object from the runscript, set the keys as attributes of the run object and write the object back as a .yaml file? \n",
    ">>> I provide an example of what I mean below, just for illustration purposes. Can you suggest some keys (and corresponding values) that make sense hydrologically and would be appropriate for this audience?\n",
    "\n",
    "Using the subsettools functions, the user can change the values of the most common ParFlow keys. We now show how to change any key in the runscript. To do this, we will create a `run` object form the template runscript using the `from_definition` function as before. We will change some keys manually, and then write the modified `run` object back into the runscript file format using the `write` method of the ParFlow `Run` class. The `Run.write()` function takes two arguments, the directory to write the runscript file to and the format (`pfidb` or `yaml`). It returns the path to the created runscript file."
   ]
  },
  {
   "cell_type": "code",
   "execution_count": 23,
   "id": "03516eff-3da2-4d84-8a71-75a91d9f437a",
   "metadata": {},
   "outputs": [],
   "source": [
    "run = Run.from_definition(template_run)\n",
    "\n",
    "# change some keys:\n",
    "run.ComputationalGrid.DX = 1000\n",
    "run.ComputationalGrid.DY = 1000\n",
    "run.ComputationalGrid.DZ = 10\n",
    "run.Mannings.Type = 'Constant'\n",
    "run.Solver.Linear.Preconditioner = 'MGSemi'\n",
    "\n",
    "# write the object back into a model runscript:\n",
    "runscript_path, _ = run.write(working_directory='/path/to/your/working/directory', file_format='yaml')"
   ]
  },
  {
   "cell_type": "markdown",
   "id": "e9e6e668-e8da-4429-920e-5da02f885696",
   "metadata": {},
   "source": [
    "### 8. Run a ParFlow script\n",
    "\n",
    ">>> TODO: instructions on installing Parflow here. E.g. point to the parflow repo install instructions, and also mention Binder and the Docker container instructions from getting started?\n",
    "\n",
    "Once we have our runscript, we can go ahead a launch a ParFlow simulation! "
   ]
  },
  {
   "cell_type": "code",
   "execution_count": null,
   "id": "eaecfa7c-d393-4067-9ecd-ab088ac78bc6",
   "metadata": {},
   "outputs": [],
   "source": [
    "# create a run object\n",
    "run = Run.from_definition('/path/to/your/customized/runscript/file')\n",
    "# launch the run\n",
    "run.run(working_dir='/path/to/your/working/directory')"
   ]
  }
 ],
 "metadata": {
  "kernelspec": {
   "display_name": "Python 3 (ipykernel)",
   "language": "python",
   "name": "python3"
  },
  "language_info": {
   "codemirror_mode": {
    "name": "ipython",
    "version": 3
   },
   "file_extension": ".py",
   "mimetype": "text/x-python",
   "name": "python",
   "nbconvert_exporter": "python",
   "pygments_lexer": "ipython3",
   "version": "3.9.17"
  }
 },
 "nbformat": 4,
 "nbformat_minor": 5
}
