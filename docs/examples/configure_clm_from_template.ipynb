{
 "cells": [
  {
   "cell_type": "markdown",
   "id": "4768bbb9-77eb-4e56-83c9-0dbcbd35ff39",
   "metadata": {},
   "source": [
    "# Get and configure the CLM files"
   ]
  },
  {
   "cell_type": "markdown",
   "id": "83fb9a68-dca3-4193-9885-40f07596f6ba",
   "metadata": {},
   "source": [
    ">>> TODO: Intro about the CLM model, the three types of CLM files (\"vegm\", \"vegp\", \"drv_clm\") and how to see what CLM configurations are available "
   ]
  },
  {
   "cell_type": "markdown",
   "id": "a421017a",
   "metadata": {},
   "source": [
    "### 1.  Setup \n",
    "\n",
    "In all examples you will need to import the following packages and register your pin in order to have access to the HydroData datasets. <<< for this workbook registering is probably not necessary, but we can keep it anyway?\n",
    "\n",
    "Refer to the [getting started](https://hydroframesubsettools.readthedocs.io/en/latest/getting_started.html) instructions for creating your pin if you have not done this already."
   ]
  },
  {
   "cell_type": "code",
   "execution_count": 10,
   "id": "61d84526-545e-41c4-a7c2-c2c4aee3f878",
   "metadata": {},
   "outputs": [],
   "source": [
    "from subsettools.subsettools import (\n",
    "    huc_to_ij, \n",
    "    latlon_to_ij, \n",
    "    config_clm,\n",
    ")\n",
    "from hf_hydrodata import grid, gridded\n",
    "from parflow import Run\n",
    "import numpy as np\n",
    "\n",
    "gridded.register_api_pin(\"your_email\", \"your_pin\")"
   ]
  },
  {
   "cell_type": "markdown",
   "id": "9eccf6bf-588c-4a9e-881c-755e16acecaa",
   "metadata": {},
   "source": [
    "### 2. Define your area of interest\n",
    "\n",
    "In order to custom the CLM files to our subsetting domain, we first need to calculate the grid bounds. We show how to do that in three different ways below.\n",
    "\n",
    "We use i,j indices in order to define the subset the national files that you would like to extract.  The [`latlon_to_ij`](https://hydroframesubsettools.readthedocs.io/en/latest/autoapi/subsettools/subsettools/index.html#subsettools.subsettools.latlon_to_ij) function translates a bounding box in lat-lon  coordinates bounds to i,j indices in whatever grid system we select. It returns a tuple `(imin, jmin, imax, jmax)` of grid indices that define a bounding box containing our region (or point) of interest (Note: `(imin, jmin, imax, jmax)` are the west, south, east and north boundaries respectively).\n",
    "\n",
    "Here we will show how to define a subset extent for (1) a single point of interest, (2) a user specified bounding box, and (3) a bounding box that surrounds a user specified HUC. \n",
    "\n",
    "**IMPORTANT NOTE**: *The i,j indices found in this step are based on whatever grid you select (e.g. `conus1` or `conus2`). Its very important that the grid you use in this step is the same as the grid that the data files (static input and forcing) you are subsetting are in or you will end up subsetting a different location than you expect.  The grids are shown below and described in [Yang et al 2023](https://www.sciencedirect.com/science/article/pii/S0022169423012362)* \n",
    "\n",
    "![CONUS domains](CONUS1_2_domain.jpg)\n",
    "\n",
    "#### 2.1 Defining bounds to extract data for a single point\n",
    "To extract data for a single point we use the same bounding box function as we would to extract a larger domain but just repeat the point values as the upper and lower bounds."
   ]
  },
  {
   "cell_type": "code",
   "execution_count": 5,
   "id": "b63ae4ef-a2b8-4123-9d63-9b9bff85c204",
   "metadata": {},
   "outputs": [
    {
     "name": "stdout",
     "output_type": "stream",
     "text": [
      "bounding box: (4057, 1915, 4057, 1915)\n"
     ]
    }
   ],
   "source": [
    "lat = 39.8379\n",
    "lon = -74.3791\n",
    "# Since we want to subset only a single location, both lat-lon bounds are defined by this point:\n",
    "latlon_bounds = ([lat, lon],[lat, lon])\n",
    "ij_column_bounds = latlon_to_ij(latlon_bounds=latlon_bounds, grid=\"conus2\")\n",
    "print(f\"bounding box: {ij_column_bounds}\")"
   ]
  },
  {
   "cell_type": "markdown",
   "id": "ab375010",
   "metadata": {},
   "source": [
    "#### 3.2 Defining bounds for a box defined by lat-lon bounds\n",
    "To extract a bounding box, provide the upper and lower latitude and longitude bounds respectively for the area of interest as well as the grid system that you would like to use. "
   ]
  },
  {
   "cell_type": "code",
   "execution_count": 6,
   "id": "17621e48",
   "metadata": {},
   "outputs": [
    {
     "name": "stdout",
     "output_type": "stream",
     "text": [
      "bounding box: (2285, 436, 2358, 495)\n"
     ]
    }
   ],
   "source": [
    "ij_box_bounds = latlon_to_ij(latlon_bounds=[[37.91, -91.43], [37.34, -90.63]], grid=\"conus1\")\n",
    "print(f\"bounding box: {ij_box_bounds}\")"
   ]
  },
  {
   "cell_type": "markdown",
   "id": "2901933c",
   "metadata": {},
   "source": [
    "#### 3.3 Defining bounds for a HUC watershed\n",
    "The subsettools [`huc_to_ij`](https://hydroframesubsettools.readthedocs.io/en/latest/autoapi/subsettools/subsettools/index.html#subsettools.subsettools.huc_to_ij) function returns a tuple `(imin, jmin, imax, jmax)` of grid indices that define a bounding box containing any HUC. You can provide 2, 4, 6, 8 or 10-digit HUCs.  For help finding your HUC you can refer to the [USGS HUC picker](https://water.usgs.gov/wsc/map_index.html)."
   ]
  },
  {
   "cell_type": "code",
   "execution_count": 9,
   "id": "35d88c8a",
   "metadata": {},
   "outputs": [
    {
     "name": "stdout",
     "output_type": "stream",
     "text": [
      "bounding box: (1225, 1738, 1347, 1811)\n"
     ]
    }
   ],
   "source": [
    "ij_huc_bounds = huc_to_ij(huc_list=[\"14050002\"], grid=\"conus2\")\n",
    "print(f\"bounding box: {ij_huc_bounds}\")"
   ]
  },
  {
   "cell_type": "markdown",
   "id": "a09dfacf-f441-4003-a24f-85781a161021",
   "metadata": {},
   "source": [
    "### 3. Configuring_clm with the `config_clm` function \n",
    "We will now use the `config_clm` function (API reference [here](https://hydroframesubsettools.readthedocs.io/en/edit-docs/autoapi/subsettools/subsettools/index.html#subsettools.subsettools.config_clm)) to tailor our CLM files to our subsetting domain. We will pass the function the grid bounds (we will pass the `ij_box_bounds` that we calculated, start and end dates for our ParFlow simulation, a dataset to get our CLM files from and the directory path where the files are going to be written to. We can also pass a timezone argument, otherwise it defaults to UTC time. The function will return a dictionary in which the keys are (“vegp”, “vegm”, “drv_clm”) and the values are file paths where the CLM files were written.\n",
    "\n",
    ">>> TODO: We should have a link to the CLM datasets - what is the equivalent of conus1_baseline_mod for conus2?\n",
    "\n",
    "**NOTE:** *If you choose to provide a timezone while setting up a ParFlow simulation, it should be consistent across the functions `subset_press_init`, `subset_forcing` and `config_clm`.*"
   ]
  },
  {
   "cell_type": "code",
   "execution_count": 12,
   "id": "97d055f7-5a38-4f5b-8332-bbf6dd84b1d4",
   "metadata": {},
   "outputs": [
    {
     "name": "stdout",
     "output_type": "stream",
     "text": [
      "processing vegp\n",
      "copied vegp\n",
      "processing vegm\n",
      "subset vegm\n",
      "processing drv_clm\n",
      "copied drv_clmin\n",
      "edited drv_clmin\n"
     ]
    }
   ],
   "source": [
    "file_paths = config_clm(\n",
    "    ij_box_bounds, \n",
    "    start=\"2005-10-01\", \n",
    "    end=\"2006-10-01\", \n",
    "    dataset=\"conus1_baseline_mod\",\n",
    "    write_dir=\"/home/ga6/subsettools_example\",\n",
    ")"
   ]
  },
  {
   "cell_type": "markdown",
   "id": "757e171d-5538-41d8-be51-32f79293d536",
   "metadata": {},
   "source": [
    "### 4. Getting the clm input files with the HydroData API\n",
    "\n",
    "We can also get the CLM files using the HydroData API. We will use the `get_raw_file` function to get the `vegp` and `drv_clm` files. These are small text files and the `get_raw_file` function is going to get them from HydroData and write them to the given directory path. Note that the `get_raw_file` function is going to copy the files as they are - it will not modify them like the `config_clm` function."
   ]
  },
  {
   "cell_type": "code",
   "execution_count": 20,
   "id": "6c68fea9-3d11-4cb8-a935-c3430b7cbdc7",
   "metadata": {},
   "outputs": [],
   "source": [
    "# get the vegp file and write it to filepath:\n",
    "gridded.get_raw_file(filepath=\"/home/ga6/subsettools_example\",\n",
    "                         dataset=\"conus1_baseline_mod\",\n",
    "                         file_type=\"vegp\",\n",
    ")\n",
    "\n",
    "# get the drv_clm file and write it to filepath:\n",
    "gridded.get_raw_file(filepath=\"/home/ga6/subsettools_example\",\n",
    "                         dataset=\"conus1_baseline_mod\",\n",
    "                         file_type=\"drv_clm\",\n",
    ")"
   ]
  },
  {
   "cell_type": "markdown",
   "id": "206f832d-6167-4b78-8072-bfd20c6ac34c",
   "metadata": {},
   "source": [
    ">>> About the vegm file: we could use the get_raw_file to copy the entire vegm file and write it to write_dir. But subsetting the vegm is very tricky. The get_numpy function would return an array of subset data but even that is pretty tricky to put back into vegm format. What is the goal in using the API to get the vegm file? Knowing this will help a lot to decide how to do this in code."
   ]
  },
  {
   "cell_type": "markdown",
   "id": "844861c9-63d3-4c28-ae01-b0cb054df0c6",
   "metadata": {},
   "source": [
    "### 4. Setting up a single column CLM run with the config function\n",
    "\n",
    ">>> How is this different that the above - I could just replace the huc_bounds with the single point bounds. Maybe I am misunderstanding this."
   ]
  },
  {
   "cell_type": "markdown",
   "id": "70810768-3916-4661-a93c-48b263bcc611",
   "metadata": {},
   "source": [
    "### 5. Cite the data sources\n",
    "\n",
    "Please make sure to cite all data sources that you use. The `get_catalog_entry` function (API reference [here](https://maurice.princeton.edu/hydroframe/docs/hf_hydrodata.gridded.html#hf_hydrodata.gridded.get_catalog_entry)) will return a dictionary of medatada based on our filters, from which we will select the `paper_dois` and `dataset_dois` keys."
   ]
  },
  {
   "cell_type": "code",
   "execution_count": 35,
   "id": "5eec2b61-76f0-4044-8c5d-864245f39311",
   "metadata": {},
   "outputs": [
    {
     "name": "stdout",
     "output_type": "stream",
     "text": [
      "Paper DOIs: 10.5194/gmd-14-7223-2021\n",
      "Dataset DOIs: \n"
     ]
    }
   ],
   "source": [
    "metadata = gridded.get_catalog_entry(\n",
    "    dataset=\"conus1_baseline_mod\",\n",
    "    variable=\"clm_run\",\n",
    "    file_type=\"drv_clm\",\n",
    ")\n",
    "print(\"Paper DOIs:\", metadata['paper_dois'])\n",
    "print(\"Dataset DOIs:\", metadata['dataset_dois'])"
   ]
  }
 ],
 "metadata": {
  "kernelspec": {
   "display_name": "Python 3 (ipykernel)",
   "language": "python",
   "name": "python3"
  },
  "language_info": {
   "codemirror_mode": {
    "name": "ipython",
    "version": 3
   },
   "file_extension": ".py",
   "mimetype": "text/x-python",
   "name": "python",
   "nbconvert_exporter": "python",
   "pygments_lexer": "ipython3",
   "version": "3.9.17"
  }
 },
 "nbformat": 4,
 "nbformat_minor": 5
}
