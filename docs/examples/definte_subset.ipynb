{
 "cells": [
  {
   "cell_type": "markdown",
   "metadata": {},
   "source": [
    "# Define a subset domain area"
   ]
  },
  {
   "cell_type": "markdown",
   "metadata": {},
   "source": [
    "All of the subset functions require you to define a bounding box that defines the extent of your domain.  We use `i`,`j` indices to define this box where `i`  and `j` are index values relative to th lower left hand corner of whatever the reference grid is that will be subset. \n",
    "\n",
    "The [`latlon_to_ij`](https://hydroframesubsettools.readthedocs.io/en/latest/autoapi/subsettools/subsettools/index.html#subsettools.subsettools.latlon_to_ij) function translates a bounding box in lat-lon  coordinates bounds to `i`,`j` indices in whatever grid system we select. It returns a tuple `(imin, jmin, imax, jmax)` of grid indices that define a bounding box containing our region (or point) of interest (Note: `(imin, jmin, imax, jmax)` are the west, south, east and north boundaries of the box respectively).\n",
    "\n",
    "Here we will show how to define a subset extent for:\n",
    "-  A single point of interest \n",
    "-  A user specified bounding box\n",
    "-  A bounding box that surrounds a user specified HUC watershed \n",
    "\n",
    "**IMPORTANT NOTE**: *The i,j indices found in this step are based on whatever grid you select (e.g. `conus1` or `conus2`). Its very important that the grid you use in this step is the same as the grid that the data files (static input and forcing) you are subsetting are in or you will end up subsetting a different location than you expect.  \n",
    "\n",
    "The grids are shown below and described in [Yang et al 2023](https://www.sciencedirect.com/science/article/pii/S0022169423012362)* \n",
    "\n",
    "![CONUS domains](CONUS1_2_domain.jpg)"
   ]
  },
  {
   "cell_type": "markdown",
   "metadata": {},
   "source": [
    "## 1.  Setup \n",
    "\n",
    "In all examples you will need to import the following packages and register your pin in order to have access to the HydroData datasets\n",
    "\n",
    "Refer to the [getting started](https://hydroframesubsettools.readthedocs.io/en/latest/getting_started.html) instructions for creating your pin if you have not done this already."
   ]
  },
  {
   "cell_type": "code",
   "execution_count": 1,
   "metadata": {},
   "outputs": [],
   "source": [
    "import subsettools as st\n",
    "import hf_hydrodata as hf\n",
    "\n",
    "hf.register_api_pin(\"your_email\", \"your_pin\")"
   ]
  },
  {
   "cell_type": "markdown",
   "metadata": {},
   "source": [
    "## 2. Defining bounds to extract data for a single point\n",
    "To extract data for a single point we use the same bounding box function as we would to extract a larger domain but just repeat the point values as the upper and lower bounds."
   ]
  },
  {
   "cell_type": "code",
   "execution_count": 5,
   "metadata": {},
   "outputs": [
    {
     "name": "stdout",
     "output_type": "stream",
     "text": [
      "bounding box: (4057, 1915, 4057, 1915)\n"
     ]
    }
   ],
   "source": [
    "lat = 39.8379\n",
    "lon = -74.3791\n",
    "# Since we want to subset only a single location, both lat-lon bounds are defined by this point:\n",
    "latlon_bounds = [[lat, lon],[lat, lon]]\n",
    "ij_column_bounds = st.latlon_to_ij(latlon_bounds=latlon_bounds, grid=\"conus2\")\n",
    "print(f\"bounding box: {ij_column_bounds}\")"
   ]
  },
  {
   "cell_type": "markdown",
   "metadata": {},
   "source": [
    "## 3. Defining bounds for a box defined by lat-lon bounds\n",
    "To extract a bounding box, provide the upper and lower latitude and longitude bounds respectively for the area of interest as well as the grid system that you would like to use. "
   ]
  },
  {
   "cell_type": "code",
   "execution_count": 6,
   "metadata": {},
   "outputs": [
    {
     "name": "stdout",
     "output_type": "stream",
     "text": [
      "bounding box: (2285, 436, 2358, 495)\n"
     ]
    }
   ],
   "source": [
    "ij_box_bounds = st.latlon_to_ij(latlon_bounds=[[37.91, -91.43], [37.34, -90.63]], grid=\"conus1\")\n",
    "print(f\"bounding box: {ij_box_bounds}\")"
   ]
  },
  {
   "cell_type": "markdown",
   "metadata": {},
   "source": [
    "## 4. Defining bounds for a HUC watershed\n",
    "The subsettools [`huc_to_ij`](https://hydroframesubsettools.readthedocs.io/en/latest/autoapi/subsettools/subsettools/index.html#subsettools.subsettools.huc_to_ij) function returns a tuple `(imin, jmin, imax, jmax)` of grid indices that define a bounding box containing any HUC. You can provide 2, 4, 6, 8 or 10-digit HUCs.  For help finding your HUC you can refer to the [USGS HUC picker](https://water.usgs.gov/wsc/map_index.html)."
   ]
  },
  {
   "cell_type": "code",
   "execution_count": 7,
   "metadata": {},
   "outputs": [
    {
     "name": "stdout",
     "output_type": "stream",
     "text": [
      "bounding box: (1225, 1738, 1347, 1811)\n"
     ]
    }
   ],
   "source": [
    "ij_huc_bounds = st.huc_to_ij(huc_list=[\"14050002\"], grid=\"conus2\")\n",
    "print(f\"bounding box: {ij_huc_bounds}\")"
   ]
  }
 ],
 "metadata": {
  "kernelspec": {
   "display_name": "Python 3 (ipykernel)",
   "language": "python",
   "name": "python3"
  },
  "language_info": {
   "codemirror_mode": {
    "name": "ipython",
    "version": 3
   },
   "file_extension": ".py",
   "mimetype": "text/x-python",
   "name": "python",
   "nbconvert_exporter": "python",
   "pygments_lexer": "ipython3",
   "version": "3.9.17"
  }
 },
 "nbformat": 4,
 "nbformat_minor": 4
}
